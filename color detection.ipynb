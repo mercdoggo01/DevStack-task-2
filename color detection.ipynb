{
 "cells": [
  {
   "cell_type": "markdown",
   "id": "20db2a94",
   "metadata": {},
   "source": [
    "### Devstack internship task-2"
   ]
  },
  {
   "cell_type": "markdown",
   "id": "84a01077",
   "metadata": {},
   "source": [
    "#### Tech-stack used: Python\n",
    "#### IDE used: Jupyter notebook"
   ]
  },
  {
   "cell_type": "markdown",
   "id": "8de2cdbe",
   "metadata": {},
   "source": [
    "### Objectives:\n",
    "#### Make a color detection system with the help of Pandas and Open CV based on the provided dataset."
   ]
  },
  {
   "cell_type": "markdown",
   "id": "65fe535c",
   "metadata": {},
   "source": [
    "#### If you don't have pandas or opencv use below  format:"
   ]
  },
  {
   "cell_type": "code",
   "execution_count": null,
   "id": "9369b158",
   "metadata": {},
   "outputs": [],
   "source": [
    "!pip install opencv-python"
   ]
  },
  {
   "cell_type": "markdown",
   "id": "e3c610d0",
   "metadata": {},
   "source": [
    "#### Importing useful modules \n",
    "1. pandas ['https://pandas.pydata.org/'] data analysis library\n",
    "1. opencv ['https://opencv.org/']  computer vision library\n",
    "\n",
    "#### More information maybe obtained by visiting the above links and reading useful documentation"
   ]
  },
  {
   "cell_type": "code",
   "execution_count": 1,
   "id": "7ab02d36",
   "metadata": {},
   "outputs": [],
   "source": [
    "import cv2\n",
    "import pandas as pd"
   ]
  },
  {
   "cell_type": "markdown",
   "id": "e9323859",
   "metadata": {},
   "source": [
    "#### Getting the required files from github using link provided by devstack"
   ]
  },
  {
   "cell_type": "code",
   "execution_count": 2,
   "id": "287fb5ba",
   "metadata": {},
   "outputs": [],
   "source": [
    "#url = 'https://github.com/codebrainz/color-names/blob/master/output/colors.csv'"
   ]
  },
  {
   "cell_type": "markdown",
   "id": "bc78504a",
   "metadata": {},
   "source": [
    "#### More info on urlretrieve may be obtained from ['https://docs.python.org/3/library/urllib.request.html']"
   ]
  },
  {
   "cell_type": "code",
   "execution_count": 3,
   "id": "0069b923",
   "metadata": {},
   "outputs": [],
   "source": [
    "#from urllib.request import urlretrieve\n",
    "#urlretrieve(url,'colors.csv')"
   ]
  },
  {
   "cell_type": "markdown",
   "id": "f7d7aaa6",
   "metadata": {},
   "source": [
    "#### Now we got our required files\n",
    "#### Now before proceeding first of all get a colorful image and toss it to your list directory or current working directory"
   ]
  },
  {
   "cell_type": "code",
   "execution_count": 4,
   "id": "07a38a49",
   "metadata": {},
   "outputs": [],
   "source": [
    "img_path = 'image1.png'\n",
    "csv_path = 'colors.csv'"
   ]
  },
  {
   "cell_type": "code",
   "execution_count": 5,
   "id": "a66ce1d7",
   "metadata": {},
   "outputs": [],
   "source": [
    "index_names = ['color','color_name','hex','R','G','B']\n",
    "colors_df = pd.read_csv(csv_path,names = index_names , header=None)"
   ]
  },
  {
   "cell_type": "markdown",
   "id": "b99eb9f4",
   "metadata": {},
   "source": [
    "#### checking dataframe:"
   ]
  },
  {
   "cell_type": "code",
   "execution_count": 6,
   "id": "c7b3147c",
   "metadata": {},
   "outputs": [
    {
     "data": {
      "text/html": [
       "<div>\n",
       "<style scoped>\n",
       "    .dataframe tbody tr th:only-of-type {\n",
       "        vertical-align: middle;\n",
       "    }\n",
       "\n",
       "    .dataframe tbody tr th {\n",
       "        vertical-align: top;\n",
       "    }\n",
       "\n",
       "    .dataframe thead th {\n",
       "        text-align: right;\n",
       "    }\n",
       "</style>\n",
       "<table border=\"1\" class=\"dataframe\">\n",
       "  <thead>\n",
       "    <tr style=\"text-align: right;\">\n",
       "      <th></th>\n",
       "      <th>color</th>\n",
       "      <th>color_name</th>\n",
       "      <th>hex</th>\n",
       "      <th>R</th>\n",
       "      <th>G</th>\n",
       "      <th>B</th>\n",
       "    </tr>\n",
       "  </thead>\n",
       "  <tbody>\n",
       "    <tr>\n",
       "      <th>0</th>\n",
       "      <td>air_force_blue_raf</td>\n",
       "      <td>Air Force Blue (Raf)</td>\n",
       "      <td>#5d8aa8</td>\n",
       "      <td>93</td>\n",
       "      <td>138</td>\n",
       "      <td>168</td>\n",
       "    </tr>\n",
       "    <tr>\n",
       "      <th>1</th>\n",
       "      <td>air_force_blue_usaf</td>\n",
       "      <td>Air Force Blue (Usaf)</td>\n",
       "      <td>#00308f</td>\n",
       "      <td>0</td>\n",
       "      <td>48</td>\n",
       "      <td>143</td>\n",
       "    </tr>\n",
       "    <tr>\n",
       "      <th>2</th>\n",
       "      <td>air_superiority_blue</td>\n",
       "      <td>Air Superiority Blue</td>\n",
       "      <td>#72a0c1</td>\n",
       "      <td>114</td>\n",
       "      <td>160</td>\n",
       "      <td>193</td>\n",
       "    </tr>\n",
       "    <tr>\n",
       "      <th>3</th>\n",
       "      <td>alabama_crimson</td>\n",
       "      <td>Alabama Crimson</td>\n",
       "      <td>#a32638</td>\n",
       "      <td>163</td>\n",
       "      <td>38</td>\n",
       "      <td>56</td>\n",
       "    </tr>\n",
       "    <tr>\n",
       "      <th>4</th>\n",
       "      <td>alice_blue</td>\n",
       "      <td>Alice Blue</td>\n",
       "      <td>#f0f8ff</td>\n",
       "      <td>240</td>\n",
       "      <td>248</td>\n",
       "      <td>255</td>\n",
       "    </tr>\n",
       "    <tr>\n",
       "      <th>...</th>\n",
       "      <td>...</td>\n",
       "      <td>...</td>\n",
       "      <td>...</td>\n",
       "      <td>...</td>\n",
       "      <td>...</td>\n",
       "      <td>...</td>\n",
       "    </tr>\n",
       "    <tr>\n",
       "      <th>860</th>\n",
       "      <td>yellow_orange</td>\n",
       "      <td>Yellow Orange</td>\n",
       "      <td>#ffae42</td>\n",
       "      <td>255</td>\n",
       "      <td>174</td>\n",
       "      <td>66</td>\n",
       "    </tr>\n",
       "    <tr>\n",
       "      <th>861</th>\n",
       "      <td>yellow_process</td>\n",
       "      <td>Yellow (Process)</td>\n",
       "      <td>#ffef00</td>\n",
       "      <td>255</td>\n",
       "      <td>239</td>\n",
       "      <td>0</td>\n",
       "    </tr>\n",
       "    <tr>\n",
       "      <th>862</th>\n",
       "      <td>yellow_ryb</td>\n",
       "      <td>Yellow (Ryb)</td>\n",
       "      <td>#fefe33</td>\n",
       "      <td>254</td>\n",
       "      <td>254</td>\n",
       "      <td>51</td>\n",
       "    </tr>\n",
       "    <tr>\n",
       "      <th>863</th>\n",
       "      <td>zaffre</td>\n",
       "      <td>Zaffre</td>\n",
       "      <td>#0014a8</td>\n",
       "      <td>0</td>\n",
       "      <td>20</td>\n",
       "      <td>168</td>\n",
       "    </tr>\n",
       "    <tr>\n",
       "      <th>864</th>\n",
       "      <td>zinnwaldite_brown</td>\n",
       "      <td>Zinnwaldite Brown</td>\n",
       "      <td>#2c1608</td>\n",
       "      <td>44</td>\n",
       "      <td>22</td>\n",
       "      <td>8</td>\n",
       "    </tr>\n",
       "  </tbody>\n",
       "</table>\n",
       "<p>865 rows × 6 columns</p>\n",
       "</div>"
      ],
      "text/plain": [
       "                    color             color_name      hex    R    G    B\n",
       "0      air_force_blue_raf   Air Force Blue (Raf)  #5d8aa8   93  138  168\n",
       "1     air_force_blue_usaf  Air Force Blue (Usaf)  #00308f    0   48  143\n",
       "2    air_superiority_blue   Air Superiority Blue  #72a0c1  114  160  193\n",
       "3         alabama_crimson        Alabama Crimson  #a32638  163   38   56\n",
       "4              alice_blue             Alice Blue  #f0f8ff  240  248  255\n",
       "..                    ...                    ...      ...  ...  ...  ...\n",
       "860         yellow_orange          Yellow Orange  #ffae42  255  174   66\n",
       "861        yellow_process       Yellow (Process)  #ffef00  255  239    0\n",
       "862            yellow_ryb           Yellow (Ryb)  #fefe33  254  254   51\n",
       "863                zaffre                 Zaffre  #0014a8    0   20  168\n",
       "864     zinnwaldite_brown      Zinnwaldite Brown  #2c1608   44   22    8\n",
       "\n",
       "[865 rows x 6 columns]"
      ]
     },
     "execution_count": 6,
     "metadata": {},
     "output_type": "execute_result"
    }
   ],
   "source": [
    "colors_df"
   ]
  },
  {
   "cell_type": "markdown",
   "id": "ad785d40",
   "metadata": {},
   "source": [
    "### <span style=\"color:Red\">Important stuff</span>."
   ]
  },
  {
   "cell_type": "markdown",
   "id": "b35808cc",
   "metadata": {},
   "source": [
    "#### Any color if made of the three fundamental colors Red, Blue and Green which are represented by a hexadecimal code which can be found be used in any HTML related file.\n",
    "#### More info maybe obtained from here ['https://htmlcolorcodes.com/']"
   ]
  },
  {
   "cell_type": "markdown",
   "id": "40f71fb6",
   "metadata": {},
   "source": [
    "#### Checking and cleaning(if necessary)"
   ]
  },
  {
   "cell_type": "code",
   "execution_count": 7,
   "id": "7ed94f00",
   "metadata": {},
   "outputs": [
    {
     "data": {
      "text/plain": [
       "color         0\n",
       "color_name    0\n",
       "hex           0\n",
       "R             0\n",
       "G             0\n",
       "B             0\n",
       "dtype: int64"
      ]
     },
     "execution_count": 7,
     "metadata": {},
     "output_type": "execute_result"
    }
   ],
   "source": [
    "colors_df.isna().sum()"
   ]
  },
  {
   "cell_type": "markdown",
   "id": "2e2a514a",
   "metadata": {},
   "source": [
    "#### No inconsistent values good to proceed"
   ]
  },
  {
   "cell_type": "markdown",
   "id": "80e94bc4",
   "metadata": {},
   "source": [
    "#### OpenCV-Python is a library of Python bindings designed to solve computer vision problems. cv2.imread() method loads an image from the specified file. If the image cannot be read (because of missing file,  improper permissions, unsupported or invalid format) then this method returns an empty matrix."
   ]
  },
  {
   "cell_type": "code",
   "execution_count": 8,
   "id": "375f74cc",
   "metadata": {},
   "outputs": [],
   "source": [
    "img = cv2.imread(img_path)\n",
    "img = cv2.resize(img,(900,400))"
   ]
  },
  {
   "cell_type": "markdown",
   "id": "795c7040",
   "metadata": {},
   "source": [
    "#### Set image size whatever u wish like 1000 x 500 or whatever"
   ]
  },
  {
   "cell_type": "code",
   "execution_count": 9,
   "id": "b0178702",
   "metadata": {},
   "outputs": [],
   "source": [
    "clicked = False\n",
    "# boolean type variable made inorder to make clicking of image False until it's not done.\n",
    "r = g = b = x_pos = y_pos = 0;\n",
    "# Making variables of x and y axis positions as well as color value in (R,G & B) and setting them to 0 default"
   ]
  },
  {
   "cell_type": "code",
   "execution_count": 10,
   "id": "b152240f",
   "metadata": {},
   "outputs": [],
   "source": [
    "def get_color(R,G,B):\n",
    "    minn = 1000\n",
    "    for i in range(len(colors_df)):\n",
    "        d = abs(R - int(colors_df.loc[i,'R'])) + abs(G - int(colors_df.loc[i,'G'])) + abs(B - int(colors_df.loc[i,'B']))\n",
    "        if d <= minn:\n",
    "            minn = d\n",
    "            colorname = colors_df.loc[i,'color_name']\n",
    "            \n",
    "    return colorname        "
   ]
  },
  {
   "cell_type": "markdown",
   "id": "f7587cde",
   "metadata": {},
   "source": [
    "#### What does the above function do ? \n",
    "#### Bascially it gets color values from the dataframe (for R,G and B) and stores it to a variable and returns it "
   ]
  },
  {
   "cell_type": "code",
   "execution_count": 11,
   "id": "da761550",
   "metadata": {},
   "outputs": [],
   "source": [
    "def draw_function(event,x,y,flags,params):\n",
    "    if event == cv2.EVENT_LBUTTONDBLCLK:\n",
    "        global b,g,r,x_pos,y_pos,clicked\n",
    "        clicked = True\n",
    "        x_pos = x\n",
    "        y_pos = y\n",
    "        b,g,r = img[y,x]\n",
    "        b = int(b)\n",
    "        g = int(g)\n",
    "        r = int(r)"
   ]
  },
  {
   "cell_type": "markdown",
   "id": "85cb1d21",
   "metadata": {},
   "source": [
    "#### Above function just on clicking assigns the following values to the variable"
   ]
  },
  {
   "cell_type": "code",
   "execution_count": 12,
   "id": "e97fb60c",
   "metadata": {},
   "outputs": [],
   "source": [
    "cv2.namedWindow('image')\n",
    "cv2.setMouseCallback('image',draw_function)"
   ]
  },
  {
   "cell_type": "markdown",
   "id": "06478da3",
   "metadata": {},
   "source": [
    "#### In these methods above from cv2's user defined methods we make a window with the color name on click taking place"
   ]
  },
  {
   "cell_type": "code",
   "execution_count": 13,
   "id": "7589dbd1",
   "metadata": {},
   "outputs": [],
   "source": [
    "while True:\n",
    "    cv2.imshow('image',img)\n",
    "    if clicked:\n",
    "        cv2.rectangle(img, (20,20),(900,80),(b,g,r),-1)\n",
    "        text = 'color shade: ' + get_color(r,g,b) + ' R: ' + str(r) + ' G: ' +str(g) + ' B: ' +str(b) \n",
    "        cv2.putText(img,text,(50,50),2,0.8,(0,0,0),2,cv2.LINE_AA)\n",
    "        \n",
    "            \n",
    "    if cv2.waitKey(20) & 0xFF == 27:\n",
    "        break\n",
    "        \n",
    "cv2.destroyAllWindows()"
   ]
  },
  {
   "cell_type": "markdown",
   "id": "d71b27f1",
   "metadata": {},
   "source": [
    "#### Use the escape key to get out of the image"
   ]
  },
  {
   "cell_type": "markdown",
   "id": "990f7f8f",
   "metadata": {},
   "source": [
    "#### Above function just makes text appear and amount of R,G,B in selected frame and stops on 0xFF = 27 (i.e escape key)"
   ]
  },
  {
   "cell_type": "markdown",
   "id": "6caa01a7",
   "metadata": {},
   "source": [
    "#### The end"
   ]
  },
  {
   "cell_type": "code",
   "execution_count": null,
   "id": "86f4c04a",
   "metadata": {},
   "outputs": [],
   "source": []
  }
 ],
 "metadata": {
  "kernelspec": {
   "display_name": "Python 3",
   "language": "python",
   "name": "python3"
  },
  "language_info": {
   "codemirror_mode": {
    "name": "ipython",
    "version": 3
   },
   "file_extension": ".py",
   "mimetype": "text/x-python",
   "name": "python",
   "nbconvert_exporter": "python",
   "pygments_lexer": "ipython3",
   "version": "3.8.8"
  }
 },
 "nbformat": 4,
 "nbformat_minor": 5
}
